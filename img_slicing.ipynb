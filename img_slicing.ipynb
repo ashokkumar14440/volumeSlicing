{
 "cells": [
  {
   "cell_type": "code",
   "execution_count": null,
   "metadata": {},
   "outputs": [],
   "source": [
    "from matplotlib import pyplot as plt\n",
    "import numpy as np\n",
    "from utils import VolumeFile\n",
    "import PIL as pil\n",
    "import os\n",
    "from pathlib import Path, PurePath\n",
    "import pandas as pd"
   ]
  },
  {
   "cell_type": "code",
   "execution_count": null,
   "metadata": {},
   "outputs": [],
   "source": [
    "print(dim1,dim2,dim3)"
   ]
  },
  {
   "cell_type": "code",
   "execution_count": null,
   "metadata": {},
   "outputs": [],
   "source": [
    "#reading the volume\n",
    "test_file = \"HAEB100093L_TRIMMED.vol\"\n",
    "v = VolumeFile()\n",
    "v.decode(test_file)   \n",
    "image = v.data\n",
    "shape = image.shape\n",
    "dim1, dim2, dim3 = image.shape"
   ]
  },
  {
   "cell_type": "code",
   "execution_count": null,
   "metadata": {},
   "outputs": [],
   "source": [
    "#slice_object = slice(-1, -4, -1) \n",
    "#slices = [slice(None)]*3     # [slice(None), slice(None), slice(None)] <==> [:,:,:]\n",
    "#slices[axis] = 0             # [slice(None), slice(None), 0]           <==> [:,:,0]\n",
    "#slices = tuple(slices)       # convert to tuple, because numpy needs a tuple\n",
    "#image_2d = volume[slices]    # extract 2d image\n",
    "#slice = test[0][:][coords]\n",
    "#axis=0\n",
    "#slices=slice[slice(None),slice(None),slice(axis)]\n",
    "slice\n",
    "#a = image[slices]\n",
    "#a.shape\n",
    "slices = [slice(None)]*3\n",
    "axis=1\n",
    "i=2\n",
    "step_size=5\n",
    "#slices[axis]=slice(i,i+1,step_size)\n",
    "slices[axis]=slice(int(dim0_origin_X)-int(0.1*dim1),int(dim0_origin_X)+int(0.1*dim1),step_size)\n",
    "slices = tuple(slices)\n",
    "print(slices)\n",
    "a = image[slices]\n",
    "print(a.shape)\n",
    "\n",
    "# dim1_image = image[:,i,:]\n",
    "# print(dim0_image.shape)\n",
    "# print(a.shape)\n",
    "# print(a[:,0,:].shape)"
   ]
  },
  {
   "cell_type": "code",
   "execution_count": null,
   "metadata": {},
   "outputs": [],
   "source": [
    "slices2 = [slice(None)]*3\n",
    "print(slices2)\n",
    "p=2\n",
    "slices2[axis]=slice(p,p+1,1)\n",
    "print(slices2)\n",
    "b = a[slices2]\n",
    "print(b.shape)\n",
    "c = np.squeeze(b)\n",
    "c.shape"
   ]
  },
  {
   "cell_type": "code",
   "execution_count": null,
   "metadata": {},
   "outputs": [],
   "source": [
    "a.shape[axis]"
   ]
  },
  {
   "cell_type": "code",
   "execution_count": null,
   "metadata": {},
   "outputs": [],
   "source": [
    "for p in range (0,a.shape[axis]):\n",
    "    slices2[axis]=slice(p,p,1)\n",
    "    slices2 = tuple(slices2)\n",
    "    a_image = a[:,p,:]\n",
    "    print(a_image.shape)"
   ]
  },
  {
   "cell_type": "code",
   "execution_count": null,
   "metadata": {},
   "outputs": [],
   "source": []
  },
  {
   "cell_type": "code",
   "execution_count": null,
   "metadata": {},
   "outputs": [],
   "source": [
    "dim2_image_data = pil.Image.fromarray(a)\n",
    "file_name = f'{sub_folder}_{i:d}.png'\n",
    "dim2_image_data.save(str(path/file_name))"
   ]
  },
  {
   "cell_type": "code",
   "execution_count": null,
   "metadata": {},
   "outputs": [],
   "source": [
    "#temp = image\n",
    "#temp[:,1:50,:]=2**8"
   ]
  },
  {
   "cell_type": "code",
   "execution_count": null,
   "metadata": {},
   "outputs": [],
   "source": [
    "#reading CSV file\n",
    "col_names = ['volume_name','centerX','centerY']\n",
    "vol_centers_df = pd.read_csv('volmes_centers.csv', names=col_names)\n",
    "file_origin =vol_centers_df.loc[vol_centers_df.volume_name == test_file]\n",
    "dim0_origin_X = file_origin['centerX']\n",
    "dim0_origin_Y = file_origin['centerY']"
   ]
  },
  {
   "cell_type": "code",
   "execution_count": null,
   "metadata": {},
   "outputs": [],
   "source": [
    "i = 0\n",
    "axis = 2\n",
    "slices = [slice(None)] * 3\n",
    "slices[axis] = i\n",
    "\n",
    "a = image[tuple(slices)]\n",
    "a.shape"
   ]
  },
  {
   "cell_type": "code",
   "execution_count": null,
   "metadata": {},
   "outputs": [],
   "source": [
    "slice(None)"
   ]
  },
  {
   "cell_type": "code",
   "execution_count": null,
   "metadata": {},
   "outputs": [],
   "source": [
    "#slicing dimension_2 using origin_x\n",
    "#def slicing_dim2_x(image,dim2,dim1_origin_X):\n",
    "sub_folder = 'vol1_dim2_x'\n",
    "path  = Path()/sub_folder\n",
    "path.mkdir(parents=True,exist_ok=True)\n",
    "for i in range(int(dim1_origin_X-int(0.1*dim2)),int(dim1_origin_X+int(0.1*dim2)),5):\n",
    "    dim2_image = image[:,i,:]\n",
    "    dim2_image_data = pil.Image.fromarray(dim2_image)\n",
    "    file_name = f'{sub_folder}_{i:d}.png'\n",
    "    dim2_image_data.save(str(path/file_name))"
   ]
  },
  {
   "cell_type": "code",
   "execution_count": null,
   "metadata": {},
   "outputs": [],
   "source": [
    "#slicing in dimension_3 using origin_y\n",
    "#def slicing_dim3_x(image,dim3,dim1_origin_y):\n",
    "sub_folder = 'vol1_dim3_y'\n",
    "path = Path()/sub_folder\n",
    "path.mkdir(parents=True,exist_ok=True)\n",
    "for j in range(int(dim1_origin_Y-int(0.1*dim3)),int(dim1_origin_Y+int(0.1*dim3)),5):\n",
    "    dim3_image = image[:,:,j]\n",
    "    dim3_image_data = pil.Image.fromarray(dim3_image)\n",
    "    file_name = f'{sub_folder}_{j:d}.png'\n",
    "    dim3_image_data.save(str(path/file_name))"
   ]
  },
  {
   "cell_type": "code",
   "execution_count": null,
   "metadata": {},
   "outputs": [],
   "source": [
    "#combined single function\n",
    "test_file_name = \"HAEB100093L_TRIMMED\"\n",
    "def sliceImages(volumeName,image,axis,dim0_origin_x,dim0_origin_y):\n",
    "    sub_folder = str(volumeName)+'_'+str(axis)\n",
    "    path  = Path()/sub_folder\n",
    "    path.mkdir(parents=True,exist_ok=True)\n",
    "    dim0, dim1, dim2 = image.shape\n",
    "    if axis==0:\n",
    "        for k in range(0,dim0,50):\n",
    "            dim0_image = image[k,:,:]\n",
    "            dim0_image_data = pil.Image.fromarray(dim0_image)\n",
    "            file_name = f'{sub_folder}_{k:d}.png'\n",
    "            dim0_image_data.save(str(path/file_name))\n",
    "    if axis==1:\n",
    "        for i in range(int(dim0_origin_X-int(0.1*dim1)),int(dim0_origin_X+int(0.1*dim1)),5):\n",
    "            dim1_image = image[:,i,:]\n",
    "            dim1_image_data = pil.Image.fromarray(dim1_image)\n",
    "            file_name = f'{sub_folder}_{i:d}.png'\n",
    "            dim1_image_data.save(str(path/file_name))\n",
    "    if axis==2:\n",
    "        for j in range(int(dim0_origin_Y-int(0.1*dim2)),int(dim0_origin_Y+int(0.1*dim2)),5):\n",
    "            dim2_image = image[:,:,j]\n",
    "            dim2_image_data = pil.Image.fromarray(dim2_image)\n",
    "            file_name = f'{sub_folder}_{j:d}.png'\n",
    "            dim2_image_data.save(str(path/file_name))"
   ]
  },
  {
   "cell_type": "code",
   "execution_count": null,
   "metadata": {},
   "outputs": [],
   "source": [
    "sliceImages(test_file_name,image,0,dim0_origin_X,dim0_origin_Y)"
   ]
  },
  {
   "cell_type": "code",
   "execution_count": null,
   "metadata": {},
   "outputs": [],
   "source": [
    "#combined single function\n",
    "test_file = \"HAEB100093L_TRIMMED\"\n",
    "#assuming we were given corresponding origin for slicing and the image dim1 and dim2 sizes are same\n",
    "def sliceImages(volumeName,image,axis,dim0_origin):\n",
    "    sub_folder = str(volumeName)+'_'+str(axis)\n",
    "    path  = Path()/sub_folder\n",
    "    path.mkdir(parents=True,exist_ok=True)\n",
    "    dim0, dim1, dim2 = image.shape\n",
    "    if axis==0:\n",
    "        for k in range(0,dim0,50):\n",
    "            dim0_image = image[k,:,:]\n",
    "            dim0_image_data = pil.Image.fromarray(dim0_image)\n",
    "            file_name = f'{sub_folder}_{k:d}.png'\n",
    "            dim0_image_data.save(str(path/file_name))\n",
    "    if axis==1 or axis==2:#here we are assuming both dimensions dim1 and dim2 have same size and the origin coordinate given was corresponding to axis\n",
    "        for i in range(int(dim0_origin-int(0.1*dim1)),int(dim0_origin+int(0.1*dim1)),5):\n",
    "            if axis==1:\n",
    "                single_slice_image = image[:,i,:]\n",
    "            if axis==2:\n",
    "                single_slice_image = image[:,:,i]\n",
    "            single_slice_image_data = pil.Image.fromarray(single_slice_image)\n",
    "            file_name = f'{sub_folder}_{i:d}.png'\n",
    "            single_slice_image_data.save(str(path/file_name))"
   ]
  },
  {
   "cell_type": "code",
   "execution_count": null,
   "metadata": {},
   "outputs": [],
   "source": [
    "test_file_name = \"HAEB100093L_TRIMMED\"\n",
    "#assuming we were given corresponding origin for slicing and the image dim1 and dim2 sizes are same\n",
    "def sliceImages(image,axis,dim0_origin,step_size):\n",
    "    dim0, dim1, dim2 = image.shape\n",
    "    slices = [slice(None)]*3\n",
    "    slice_factor = 0.1\n",
    "    slice_width = round(slice_factor*dim1)\n",
    "    slices[axis]=slice(int(dim0_origin)-slice_width,int(dim0_origin)+slice_width,step_size)\n",
    "    slices = tuple(slices)\n",
    "    sliced_images = image[slices]\n",
    "    #saveImages(volumeName,sliced_images,axis)\n",
    "    return sliced_images"
   ]
  },
  {
   "cell_type": "code",
   "execution_count": null,
   "metadata": {},
   "outputs": [],
   "source": [
    "def saveImages(volumeName,sliced_images,axis):\n",
    "    slices2 = [slice(None)]*3\n",
    "    sub_folder = str(volumeName)+'_'+str(axis)\n",
    "    path  = Path()/sub_folder\n",
    "    path.mkdir(parents=True,exist_ok=True)\n",
    "    for i in range (0,sliced_images.shape[axis]-1):\n",
    "        slices2[axis]=slice(i,i+1,1)\n",
    "        image = sliced_images[slices2]\n",
    "        image = np.squeeze(image)\n",
    "        image_data = pil.Image.fromarray(image)\n",
    "        file_name = f'{sub_folder}_{i:d}.png'\n",
    "        image_data.save(str(path/file_name))"
   ]
  },
  {
   "cell_type": "code",
   "execution_count": null,
   "metadata": {},
   "outputs": [],
   "source": [
    "AXIS = 2\n",
    "STEP_SIZE = 5\n",
    "sliced_images = sliceImages(image,AXIS,dim0_origin_Y,STEP_SIZE)\n",
    "saveImages(test_file_name,sliced_images,AXIS)"
   ]
  },
  {
   "cell_type": "code",
   "execution_count": null,
   "metadata": {},
   "outputs": [],
   "source": [
    "#slicing dimension_2\n",
    "\n",
    "#path = '/data/user/home/ashok7/slicing/onh-delineation/vol1_dim2'\n",
    "path = os.getcwd()+'/vol1_dim2'\n",
    "os.makedirs(path, exist_ok=True)\n",
    "for i in range(int(0.4*dim2),int(0.6*dim2),5):\n",
    "    dim2_image = image[:,i,:]\n",
    "    dim2_image_data = pil.Image.fromarray(dim2_image)\n",
    "    dim2_image_data.save(str(path)+'/vol1_dim2_'+str(i)+'.png')"
   ]
  },
  {
   "cell_type": "code",
   "execution_count": null,
   "metadata": {},
   "outputs": [],
   "source": [
    "#slicing dimension_3\n",
    "#path = '/data/user/home/ashok7/slicing/onh-delineation/vol1_dim3'\n",
    "path = os.getcwd()+'/vol1_dim3'\n",
    "os.makedirs(path, exist_ok=True)\n",
    "for j in range(int(0.4*dim3),int(0.6*dim3),5):\n",
    "    dim3_image = image[:,:,j]\n",
    "    dim3_image_data = pil.Image.fromarray(dim3_image)\n",
    "    dim3_image_data.save(str(path)+'/vol1_dim3_'+str(j)+'.png')"
   ]
  },
  {
   "cell_type": "code",
   "execution_count": null,
   "metadata": {},
   "outputs": [],
   "source": [
    "#slicing dimension_1\n",
    "#path = '/data/user/home/ashok7/slicing/onh-delineation/vol1_dim3'\n",
    "\n",
    "sub_folder = 'vol1_dim1'\n",
    "path  = Path()/sub_folder\n",
    "#path = os.getcwd()+'/vol1_dim1'\n",
    "path.mkdir(parents=True,exist_ok=True)\n",
    "#os.makedirs(path, exist_ok=True)\n",
    "for k in range(0,dim1,50):\n",
    "    dim1_image = image[k,:,:]\n",
    "    dim1_image_data = pil.Image.fromarray(dim1_image)\n",
    "    file_name = f'{sub_folder}_{k:d}.png'\n",
    "    #dim1_image_data.save(str(path)+'/vol1_dim3_'+str(j)+'.png')\n",
    "    dim1_image_data.save(str(path/file_name))"
   ]
  },
  {
   "cell_type": "code",
   "execution_count": null,
   "metadata": {},
   "outputs": [],
   "source": [
    "from threading import Thread\n",
    "\n",
    "\n",
    "\n",
    "if __name__ == '__main__':\n",
    "    Thread(target = slicing_dim2_x).start()\n",
    "    Thread(target = slicing_dim3_x).start()"
   ]
  },
  {
   "cell_type": "code",
   "execution_count": null,
   "metadata": {},
   "outputs": [],
   "source": [
    "#junk cell\n",
    "k=50\n",
    "dim1_image = image[k,:,1:50]\n",
    "\n",
    "print(dim1_image)\n",
    "path  = Path()\n",
    "dim1_image_data = pil.Image.fromarray(dim1_image)\n",
    "file_name = 'test.png'\n",
    "#dim1_image_data.save(str(path)+'/vol1_dim3_'+str(j)+'.png')\n",
    "dim1_image_data.save(str(path/file_name))"
   ]
  },
  {
   "cell_type": "code",
   "execution_count": null,
   "metadata": {},
   "outputs": [],
   "source": [
    "#slicing dimension_2 using origin_x\n",
    "#def slicing_dim2_x(image,dim2,dim1_origin_X):\n",
    "sub_folder = 'vol1_dim2_x'\n",
    "path  = Path()/sub_folder\n",
    "path.mkdir(parents=True,exist_ok=True)\n",
    "for i in range(int(dim1_origin_X-int(0.1*dim2)),int(dim1_origin_X+int(0.1*dim2)),5):\n",
    "    dim2_image = image[:,:,i]\n",
    "    dim2_image_data = pil.Image.fromarray(dim2_image)\n",
    "    file_name = f'{sub_folder}_{i:d}.png'\n",
    "    dim2_image_data.save(str(path/file_name))"
   ]
  },
  {
   "cell_type": "code",
   "execution_count": null,
   "metadata": {},
   "outputs": [],
   "source": [
    "test_file = \"HAEB100093L_TRIMMED.vol\"\n",
    "test_file.stem"
   ]
  }
 ],
 "metadata": {
  "anaconda-cloud": {},
  "kernelspec": {
   "display_name": "Python [conda env:.conda-ashok7]",
   "language": "python",
   "name": "conda-env-.conda-ashok7-py"
  },
  "language_info": {
   "codemirror_mode": {
    "name": "ipython",
    "version": 3
   },
   "file_extension": ".py",
   "mimetype": "text/x-python",
   "name": "python",
   "nbconvert_exporter": "python",
   "pygments_lexer": "ipython3",
   "version": "3.7.13"
  }
 },
 "nbformat": 4,
 "nbformat_minor": 4
}
