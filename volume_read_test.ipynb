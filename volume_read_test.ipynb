{
 "cells": [
  {
   "cell_type": "code",
   "execution_count": null,
   "metadata": {},
   "outputs": [],
   "source": [
    "from matplotlib import pyplot as plt\n",
    "import numpy as np\n",
    "\n",
    "from utils import VolumeFile\n",
    "#from inc.python_image_utilities.image_util import *"
   ]
  },
  {
   "cell_type": "code",
   "execution_count": null,
   "metadata": {},
   "outputs": [],
   "source": [
    "#!srun --pty curl -L  https://uab.box.com/s/xiurb4d624gfood3p8z5np1remu4rt4c --output HAEB100093L_TRIMMED.vol"
   ]
  },
  {
   "cell_type": "code",
   "execution_count": null,
   "metadata": {},
   "outputs": [],
   "source": [
    "test_file = \"HAEB100093L_TRIMMED.vol\"\n",
    "v = VolumeFile()\n",
    "v.decode(test_file)\n",
    "    \n",
    "image = v.data\n",
    "shape = image.shape"
   ]
  },
  {
   "cell_type": "code",
   "execution_count": null,
   "metadata": {},
   "outputs": [],
   "source": [
    "shape"
   ]
  },
  {
   "cell_type": "code",
   "execution_count": null,
   "metadata": {},
   "outputs": [],
   "source": [
    "import cv2\n",
    "cv2.imshow('ImageWindow',image[:,:,1])"
   ]
  },
  {
   "cell_type": "code",
   "execution_count": null,
   "metadata": {},
   "outputs": [],
   "source": [
    "a = image[:,:,:]"
   ]
  },
  {
   "cell_type": "code",
   "execution_count": null,
   "metadata": {},
   "outputs": [],
   "source": [
    "from matplotlib import pyplot as plt\n",
    "plt.imshow(a, interpolation='nearest')\n",
    "plt.show()"
   ]
  },
  {
   "cell_type": "code",
   "execution_count": null,
   "metadata": {},
   "outputs": [],
   "source": [
    "v_small = resize(image, scale=0.1)"
   ]
  },
  {
   "cell_type": "code",
   "execution_count": null,
   "metadata": {
    "scrolled": false
   },
   "outputs": [],
   "source": [
    "position = round(shape[2] * 0.60)\n",
    "image_slice = image[:, :, position]\n",
    "plt.imshow(clahe(image_slice.squeeze(), tile_size=(50,50)))\n",
    "fig = plt.gcf()\n",
    "fig.set_size_inches(16,16)"
   ]
  },
  {
   "cell_type": "code",
   "execution_count": null,
   "metadata": {
    "scrolled": false
   },
   "outputs": [],
   "source": [
    "position = round(shape[1] * 0.60)\n",
    "image_slice = image[:, position, :]\n",
    "plt.imshow(clahe(image_slice.squeeze(), tile_size=(10,10)))\n",
    "fig = plt.gcf()\n",
    "fig.set_size_inches(16,16)"
   ]
  },
  {
   "cell_type": "code",
   "execution_count": null,
   "metadata": {},
   "outputs": [],
   "source": [
    "neighbor_count = 25\n",
    "center_pos = round(shape[1] * 0.50)\n",
    "pos = slice(center_pos - neighbor_count, center_pos + neighbor_count + 1)"
   ]
  },
  {
   "cell_type": "code",
   "execution_count": null,
   "metadata": {},
   "outputs": [],
   "source": [
    "image_slice = image[:, pos, :]\n",
    "image_slice_mean = image_slice.mean(axis=1)\n",
    "image_slice_min = image_slice.min(axis=1)\n",
    "image_slice_std = image_slice.std(axis=1)\n",
    "#image_slice = np.median(image_slice, axis=1)\n",
    "print(image_slice_mean.shape)\n",
    "plt.imshow(image_slice[:, neighbor_count + 1, :].squeeze())\n",
    "plt.gcf().set_size_inches(16,16)"
   ]
  },
  {
   "cell_type": "code",
   "execution_count": null,
   "metadata": {},
   "outputs": [],
   "source": [
    "from skimage.exposure import histogram\n",
    "\n",
    "hist, bin_edges = histogram(image_slice_min)\n",
    "plt.bar(bin_edges, hist)"
   ]
  },
  {
   "cell_type": "code",
   "execution_count": null,
   "metadata": {
    "scrolled": true
   },
   "outputs": [],
   "source": [
    "plt.plot(image_slice_min[700, ...].squeeze())"
   ]
  },
  {
   "cell_type": "code",
   "execution_count": null,
   "metadata": {},
   "outputs": [],
   "source": [
    "adj_min = clahe(image_slice_min, tile_size=(20,20))\n",
    "adj_mean = image_slice_mean\n",
    "#adj = image_slice\n",
    "plt.imshow(adj)\n",
    "plt.gcf().set_size_inches(16,16)"
   ]
  },
  {
   "cell_type": "code",
   "execution_count": null,
   "metadata": {},
   "outputs": [],
   "source": [
    "plt.plot(adj[700, ...].squeeze())"
   ]
  },
  {
   "cell_type": "code",
   "execution_count": null,
   "metadata": {},
   "outputs": [],
   "source": [
    "th = np.logical_and(adj_min < 140, adj_mean < 160)\n",
    "plt.imshow(th)\n",
    "plt.gcf().set_size_inches(16,16)"
   ]
  },
  {
   "cell_type": "code",
   "execution_count": null,
   "metadata": {},
   "outputs": [],
   "source": [
    "from skimage.morphology import disk, opening\n",
    "\n",
    "d = disk(2)\n",
    "morph = opening(th, d)\n",
    "plt.imshow(morph > 0)\n",
    "plt.gcf().set_size_inches(16,16)"
   ]
  },
  {
   "cell_type": "code",
   "execution_count": null,
   "metadata": {},
   "outputs": [],
   "source": [
    "from skimage.measure import label\n",
    "\n",
    "lab = morph.copy()\n",
    "lab[0, :] = 1\n",
    "lab[-1, :] = 1\n",
    "lab[:, 0] = 1\n",
    "lab[:, -1] = 1\n",
    "lab = label(lab)\n",
    "lab[lab == 1] = 0\n",
    "plt.imshow(lab > 0)\n",
    "plt.gcf().set_size_inches(16,16)"
   ]
  },
  {
   "cell_type": "code",
   "execution_count": null,
   "metadata": {},
   "outputs": [],
   "source": [
    "bg = image_slice[:, neighbor_count+1, :].squeeze()[..., np.newaxis]\n",
    "print(bg.shape)\n",
    "fg = lab.astype(np.uint8)[..., np.newaxis]\n",
    "print(fg.shape)\n",
    "\n",
    "ov = overlay(bg, fg, color=[1.0,1.0,0.0], alpha=1.0, beta=1.0)\n",
    "plt.imshow(ov)\n",
    "plt.gcf().set_size_inches(16,16)"
   ]
  },
  {
   "cell_type": "code",
   "execution_count": null,
   "metadata": {},
   "outputs": [],
   "source": [
    "temp = np.transpose(image, (2, 0, 1))\n",
    "position = round(temp.shape[0] * 0.50)\n",
    "image_slice = temp[position, :, :]\n",
    "plt.imshow(image_slice.squeeze())\n",
    "fig = plt.gcf()\n",
    "fig.set_size_inches(16,16)"
   ]
  },
  {
   "cell_type": "code",
   "execution_count": null,
   "metadata": {},
   "outputs": [],
   "source": [
    "m = montage(temp[[1900,1950,2000,2050],...][..., np.newaxis], maximum_images=4)\n",
    "plt.imshow(m.squeeze())\n",
    "fig = plt.gcf()\n",
    "fig.set_size_inches(16,16)"
   ]
  },
  {
   "cell_type": "code",
   "execution_count": null,
   "metadata": {},
   "outputs": [],
   "source": []
  }
 ],
 "metadata": {
  "anaconda-cloud": {},
  "kernelspec": {
   "display_name": "Python [conda env:.conda-ashok7]",
   "language": "python",
   "name": "conda-env-.conda-ashok7-py"
  },
  "language_info": {
   "codemirror_mode": {
    "name": "ipython",
    "version": 3
   },
   "file_extension": ".py",
   "mimetype": "text/x-python",
   "name": "python",
   "nbconvert_exporter": "python",
   "pygments_lexer": "ipython3",
   "version": "3.7.13"
  }
 },
 "nbformat": 4,
 "nbformat_minor": 2
}
